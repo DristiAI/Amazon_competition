{
 "cells": [
  {
   "cell_type": "code",
   "execution_count": 1,
   "id": "4ae3ceac",
   "metadata": {},
   "outputs": [],
   "source": [
    "import pandas as pd\n",
    "import numpy as np\n",
    "import sklearn\n",
    "import os\n",
    "import math"
   ]
  },
  {
   "cell_type": "code",
   "execution_count": 17,
   "id": "b48fb4a9",
   "metadata": {},
   "outputs": [],
   "source": [
    "def make_data(directory):\n",
    "    files = os.listdir(directory)\n",
    "    d = {}\n",
    "    for file in files:\n",
    "        file_name = os.path.basename(file)\n",
    "        os.chdir(directory)\n",
    "        f = open(file_name)\n",
    "        file_content = f.readlines()[:-1]\n",
    "        for i in file_content:\n",
    "            l = i.strip().split()\n",
    "            if len(l)>2:\n",
    "                k = ' '.join(l[:-1])\n",
    "                v = l[-1]\n",
    "            else:\n",
    "                k = l[0]\n",
    "                v = l[-1]\n",
    "#             else:\n",
    "#                 print(i,\"n\")\n",
    "#                 k,v = i.strip().split()\n",
    "#                 print(k,v)\n",
    "            if k in d:\n",
    "                d[k].append(v)\n",
    "            else:\n",
    "                d[k]=[v]\n",
    "                \n",
    "    return d        \n",
    "m = make_data(r\"C:\\Users\\admin\\Downloads\\dataset\\train\")\n",
    "n = make_data(r\"C:\\Users\\admin\\Downloads\\dataset\\test\")  "
   ]
  },
  {
   "cell_type": "code",
   "execution_count": 2,
   "id": "f4dbf573",
   "metadata": {},
   "outputs": [
    {
     "ename": "NameError",
     "evalue": "name 'm' is not defined",
     "output_type": "error",
     "traceback": [
      "\u001b[1;31m---------------------------------------------------------------------------\u001b[0m",
      "\u001b[1;31mNameError\u001b[0m                                 Traceback (most recent call last)",
      "\u001b[1;32m<ipython-input-2-a2b7562dc298>\u001b[0m in \u001b[0;36m<module>\u001b[1;34m\u001b[0m\n\u001b[1;32m----> 1\u001b[1;33m \u001b[0mtrain_data\u001b[0m \u001b[1;33m=\u001b[0m \u001b[0mpd\u001b[0m\u001b[1;33m.\u001b[0m\u001b[0mDataFrame\u001b[0m\u001b[1;33m(\u001b[0m\u001b[0mm\u001b[0m\u001b[1;33m)\u001b[0m\u001b[1;33m\u001b[0m\u001b[1;33m\u001b[0m\u001b[0m\n\u001b[0m\u001b[0;32m      2\u001b[0m \u001b[0mtest_data\u001b[0m \u001b[1;33m=\u001b[0m \u001b[0mpd\u001b[0m\u001b[1;33m.\u001b[0m\u001b[0mDataFrame\u001b[0m\u001b[1;33m(\u001b[0m\u001b[0mn\u001b[0m\u001b[1;33m)\u001b[0m\u001b[1;33m\u001b[0m\u001b[1;33m\u001b[0m\u001b[0m\n\u001b[0;32m      3\u001b[0m \u001b[0mtrain_data\u001b[0m\u001b[1;33m.\u001b[0m\u001b[0mto_csv\u001b[0m\u001b[1;33m(\u001b[0m\u001b[1;34mr\"C:\\Users\\admin\\Downloads\\dataset\\train.csv\"\u001b[0m\u001b[1;33m,\u001b[0m\u001b[0mindex\u001b[0m\u001b[1;33m=\u001b[0m\u001b[1;32mFalse\u001b[0m\u001b[1;33m)\u001b[0m\u001b[1;33m\u001b[0m\u001b[1;33m\u001b[0m\u001b[0m\n\u001b[0;32m      4\u001b[0m \u001b[0mtest_data\u001b[0m\u001b[1;33m.\u001b[0m\u001b[0mto_csv\u001b[0m\u001b[1;33m(\u001b[0m\u001b[1;34mr\"C:\\Users\\admin\\Downloads\\dataset\\test.csv\"\u001b[0m\u001b[1;33m,\u001b[0m\u001b[0mindex\u001b[0m\u001b[1;33m=\u001b[0m\u001b[1;32mFalse\u001b[0m\u001b[1;33m)\u001b[0m\u001b[1;33m\u001b[0m\u001b[1;33m\u001b[0m\u001b[0m\n",
      "\u001b[1;31mNameError\u001b[0m: name 'm' is not defined"
     ]
    }
   ],
   "source": [
    "train_data = pd.DataFrame(m)\n",
    "test_data = pd.DataFrame(n)\n",
    "train_data.to_csv(r\"C:\\Users\\admin\\Downloads\\dataset\\train.csv\",index=False)\n",
    "test_data.to_csv(r\"C:\\Users\\admin\\Downloads\\dataset\\test.csv\",index=False)"
   ]
  },
  {
   "cell_type": "code",
   "execution_count": 188,
   "id": "5e7e221b",
   "metadata": {},
   "outputs": [],
   "source": [
    "train_data = pd.read_csv(r\"C:\\Users\\admin\\Downloads\\dataset\\train.csv\")\n",
    "test_data = pd.read_csv(r\"C:\\Users\\admin\\Downloads\\dataset\\test.csv\")"
   ]
  },
  {
   "cell_type": "code",
   "execution_count": 189,
   "id": "cba0ac32",
   "metadata": {},
   "outputs": [],
   "source": [
    "id_ = test_data['ID']"
   ]
  },
  {
   "cell_type": "code",
   "execution_count": 190,
   "id": "77d37777",
   "metadata": {},
   "outputs": [],
   "source": [
    "ids = list(train_data['Delivery_person_ID'])\n",
    "te_ids = list(test_data['Delivery_person_ID'])\n",
    "count=0\n",
    "for id in te_ids:\n",
    "    if id in ids:\n",
    "        count+=1"
   ]
  },
  {
   "cell_type": "code",
   "execution_count": 191,
   "id": "7babb34b",
   "metadata": {},
   "outputs": [
    {
     "data": {
      "text/plain": [
       "((11399, 19), 11399)"
      ]
     },
     "execution_count": 191,
     "metadata": {},
     "output_type": "execute_result"
    }
   ],
   "source": [
    "test_data.shape,count"
   ]
  },
  {
   "cell_type": "code",
   "execution_count": 192,
   "id": "404afddc",
   "metadata": {},
   "outputs": [
    {
     "name": "stdout",
     "output_type": "stream",
     "text": [
      "ID 45592\n",
      "Delivery_person_ID 1320\n",
      "Delivery_person_Age 23\n",
      "Delivery_person_Ratings 29\n",
      "Restaurant_latitude 657\n",
      "Restaurant_longitude 518\n",
      "Delivery_location_latitude 4373\n",
      "Delivery_location_longitude 4373\n",
      "Order_Date 44\n",
      "Time_Orderd 177\n",
      "Time_Order_picked 193\n",
      "Weather conditions 7\n",
      "Road_traffic_density 5\n",
      "Vehicle_condition 4\n",
      "Type_of_order 4\n",
      "Type_of_vehicle 4\n",
      "multiple_deliveries 5\n",
      "Festival 3\n",
      "City 4\n",
      "Time_taken (min) 45\n"
     ]
    }
   ],
   "source": [
    "for col in train_data.columns:\n",
    "    print(col,len(train_data[col].unique()))"
   ]
  },
  {
   "cell_type": "code",
   "execution_count": 193,
   "id": "b823ed49",
   "metadata": {},
   "outputs": [],
   "source": [
    "def to_numeric(df,is_train=None):\n",
    "    bins= [18,25,30,40,50,100]\n",
    "    df = df.replace('NaN',None)\n",
    "    numeric_columns = ['Delivery_person_Age',\n",
    "           'Delivery_person_Ratings', 'Restaurant_latitude',\n",
    "           'Restaurant_longitude', 'Delivery_location_latitude',\n",
    "           'Delivery_location_longitude',\n",
    "        'Vehicle_condition','multiple_deliveries']\n",
    "    for col in numeric_columns:\n",
    "        df[col] = df[col].astype(np.number)\n",
    "    df['Order_Date'] = pd.to_datetime(df['Order_Date'])\n",
    "    df['Order_month'] = df['Order_Date'].dt.month\n",
    "    df['Order_day'] = df['Order_Date'].dt.day\n",
    "    df['Order_weekday'] = df['Order_Date'].dt.weekday\n",
    "    df[\"Is_weekend\"] = np.where((df[\"Order_weekday\"] >4),1,0)\n",
    "    df[\"Is_mon\"] = np.where(df[\"Order_weekday\"] ==1,1,0)\n",
    "    temp = df['Time_Orderd'].str.split(':', expand=True)\n",
    "    df['Order_hrs'],df['Order_mins'] = temp[0],temp[1]\n",
    "    temp=df['Time_Order_picked'].str.split(':', expand=True)\n",
    "    df['Order_p_hrs'],df['Order_p_mins'] = temp[0],temp[1]\n",
    "    df['city'] = df['Delivery_person_ID'].str[:4]   \n",
    "    dcols = ['Order_hrs','Order_mins','Order_p_hrs','Order_p_mins']\n",
    "    df['distance'] = (df['Restaurant_latitude']-df['Delivery_location_latitude'])**2 + (df['Restaurant_longitude']-df['Delivery_location_longitude'])**2\n",
    "    if is_train:\n",
    "#         df['distance'] = (df['Restaurant_latitude']-df['Delivery_location_latitude'])**2 + (df['Restaurant_longitude']-df['Delivery_location_longitude'])**2\n",
    "        df['time/distance'] = df[\"Time_taken (min)\"].astype(np.number)/df['distance']\n",
    "        df_temp = df.groupby('Delivery_person_ID')[\"time/distance\"].mean()\n",
    "        df = df.merge(df_temp, on='Delivery_person_ID',how='left')\n",
    "        df = df.dropna()\n",
    "        df = df.drop('time/distance_x',axis=1,)\n",
    "\n",
    "    for col in dcols:\n",
    "        df[col] = df[col].replace('NaN',0)\n",
    "        df = df.fillna(0)\n",
    "        df[col] = df[col].apply(int)\n",
    "    labels = ['NAdult','YAdult','OldAdult','VoldAdult','VVoldAdult']\n",
    "    df['AgeGroup'] = pd.cut(df['Delivery_person_Age'], bins=bins, labels=labels, right=False)\n",
    "    cat_cols = [\"Weather conditions\", \"Road_traffic_density\", \"Type_of_order\", \"Type_of_vehicle\", \"Festival\",\"city\",\"AgeGroup\"]\n",
    "    for col in cat_cols:\n",
    "        df[col] = df[col].astype('category')\n",
    "    \n",
    "    \n",
    "\n",
    "    df = df.drop([\"Time_Orderd\",'Time_Order_picked','ID','Order_Date','City'],axis=1,)\n",
    "\n",
    "    return df\n",
    "train_data = to_numeric(train_data,is_train=True)\n",
    "test_data = to_numeric(test_data)"
   ]
  },
  {
   "cell_type": "code",
   "execution_count": 194,
   "id": "2eb4ab00",
   "metadata": {},
   "outputs": [
    {
     "data": {
      "text/plain": [
       "(11399, 26)"
      ]
     },
     "execution_count": 194,
     "metadata": {},
     "output_type": "execute_result"
    }
   ],
   "source": [
    "test_data.shape"
   ]
  },
  {
   "cell_type": "code",
   "execution_count": 195,
   "id": "b8787cbd",
   "metadata": {},
   "outputs": [],
   "source": [
    "test_data = test_data.merge(train_data[['Delivery_person_ID','time/distance_y']].drop_duplicates('Delivery_person_ID',keep='last'),on='Delivery_person_ID',how='left')"
   ]
  },
  {
   "cell_type": "code",
   "execution_count": 196,
   "id": "1f698b0b",
   "metadata": {},
   "outputs": [],
   "source": [
    "target_y = train_data['Time_taken (min)']\n",
    "train_data.drop(['Time_taken (min)','Delivery_person_ID'],axis=1,inplace=True)\n",
    "test_data.drop('Delivery_person_ID',axis=1,inplace=True)"
   ]
  },
  {
   "cell_type": "code",
   "execution_count": 197,
   "id": "ba460715",
   "metadata": {},
   "outputs": [
    {
     "data": {
      "text/plain": [
       "((41367, 26), (11399, 26))"
      ]
     },
     "execution_count": 197,
     "metadata": {},
     "output_type": "execute_result"
    }
   ],
   "source": [
    "train_data.shape,test_data.shape"
   ]
  },
  {
   "cell_type": "code",
   "execution_count": 198,
   "id": "f2472546",
   "metadata": {},
   "outputs": [
    {
     "data": {
      "text/plain": [
       "(52766, 26)"
      ]
     },
     "execution_count": 198,
     "metadata": {},
     "output_type": "execute_result"
    }
   ],
   "source": [
    "all_data = pd.concat([train_data,test_data])\n",
    "all_data.shape"
   ]
  },
  {
   "cell_type": "code",
   "execution_count": 199,
   "id": "7c680720",
   "metadata": {},
   "outputs": [],
   "source": [
    "numeric_columns = ['Delivery_person_Age',\n",
    "           'Delivery_person_Ratings', 'Restaurant_latitude',\n",
    "           'Restaurant_longitude', 'Delivery_location_latitude',\n",
    "           'Delivery_location_longitude',\n",
    "        'Vehicle_condition','multiple_deliveries','time/distance_y','distance']\n"
   ]
  },
  {
   "cell_type": "code",
   "execution_count": 200,
   "id": "202e24d5",
   "metadata": {},
   "outputs": [],
   "source": [
    "from scipy.stats import norm,skew\n",
    "skewed_feats = all_data[numeric_columns].apply(lambda x:skew(x.dropna())).sort_values(ascending=False)\n",
    "skewness = pd.DataFrame({\"Skew\":skewed_feats})"
   ]
  },
  {
   "cell_type": "code",
   "execution_count": 201,
   "id": "55ee4e03",
   "metadata": {},
   "outputs": [
    {
     "data": {
      "text/plain": [
       "distance                       32.616312\n",
       "time/distance_y                 0.722909\n",
       "multiple_deliveries             0.329884\n",
       "Vehicle_condition               0.019327\n",
       "Delivery_location_latitude     -0.702351\n",
       "Delivery_person_Age            -0.801478\n",
       "Restaurant_latitude            -1.144903\n",
       "Delivery_location_longitude    -2.973118\n",
       "Restaurant_longitude           -3.060907\n",
       "Delivery_person_Ratings        -5.763150\n",
       "dtype: float64"
      ]
     },
     "execution_count": 201,
     "metadata": {},
     "output_type": "execute_result"
    }
   ],
   "source": [
    "skewed_feats"
   ]
  },
  {
   "cell_type": "code",
   "execution_count": 204,
   "id": "5470e99c",
   "metadata": {},
   "outputs": [
    {
     "name": "stdout",
     "output_type": "stream",
     "text": [
      "(52766, 69)\n"
     ]
    }
   ],
   "source": [
    "skewness = skewness[abs(skewness)>0.75]\n",
    "from scipy.special import boxcox1p\n",
    "skewed_features = skewness.index\n",
    "lam =0.15\n",
    "for feat in skewed_features:\n",
    "    all_data[feat] = boxcox1p(all_data[feat],lam)\n",
    "cat_cols = [\"Weather conditions\", \"Road_traffic_density\", \"Type_of_order\", \"Type_of_vehicle\", \"Festival\",\"city\",\"AgeGroup\"]\n",
    "for col in cat_cols:\n",
    "    all_data[col] = all_data[col].astype('category') \n",
    "all_data = pd.get_dummies(all_data)\n",
    "print(all_data.shape)\n",
    "train_data = all_data.iloc[:41367]\n",
    "test_data = all_data.iloc[41367:]"
   ]
  },
  {
   "cell_type": "code",
   "execution_count": 205,
   "id": "1221d8de",
   "metadata": {},
   "outputs": [
    {
     "data": {
      "text/plain": [
       "Index(['Delivery_person_Age', 'Delivery_person_Ratings', 'Restaurant_latitude',\n",
       "       'Restaurant_longitude', 'Delivery_location_latitude',\n",
       "       'Delivery_location_longitude', 'Vehicle_condition',\n",
       "       'multiple_deliveries', 'Order_month', 'Order_day', 'Order_weekday',\n",
       "       'Is_weekend', 'Is_mon', 'Order_hrs', 'Order_mins', 'Order_p_hrs',\n",
       "       'Order_p_mins', 'distance', 'time/distance_y', 'Weather conditions_0',\n",
       "       'Weather conditions_Cloudy', 'Weather conditions_Fog',\n",
       "       'Weather conditions_Sandstorms', 'Weather conditions_Stormy',\n",
       "       'Weather conditions_Sunny', 'Weather conditions_Windy',\n",
       "       'Road_traffic_density_0', 'Road_traffic_density_High',\n",
       "       'Road_traffic_density_Jam', 'Road_traffic_density_Low',\n",
       "       'Road_traffic_density_Medium', 'Type_of_order_Buffet',\n",
       "       'Type_of_order_Drinks', 'Type_of_order_Meal', 'Type_of_order_Snack',\n",
       "       'Type_of_vehicle_bicycle', 'Type_of_vehicle_electric_scooter',\n",
       "       'Type_of_vehicle_motorcycle', 'Type_of_vehicle_scooter', 'Festival_0',\n",
       "       'Festival_No', 'Festival_Yes', 'city_AGRR', 'city_ALHR', 'city_AURG',\n",
       "       'city_BANG', 'city_BHPR', 'city_CHEN', 'city_COIM', 'city_DEHR',\n",
       "       'city_GOAR', 'city_HYDR', 'city_INDO', 'city_JAPR', 'city_KNPR',\n",
       "       'city_KOCR', 'city_KOLR', 'city_LUDH', 'city_MUMR', 'city_MYSR',\n",
       "       'city_PUNE', 'city_RANC', 'city_SURR', 'city_VADR', 'AgeGroup_NAdult',\n",
       "       'AgeGroup_YAdult', 'AgeGroup_OldAdult', 'AgeGroup_VoldAdult',\n",
       "       'AgeGroup_VVoldAdult'],\n",
       "      dtype='object')"
      ]
     },
     "execution_count": 205,
     "metadata": {},
     "output_type": "execute_result"
    }
   ],
   "source": [
    "train_data.columns"
   ]
  },
  {
   "cell_type": "code",
   "execution_count": 173,
   "id": "1c811e7e",
   "metadata": {},
   "outputs": [
    {
     "ename": "SyntaxError",
     "evalue": "invalid syntax (<ipython-input-173-a2303ce4ebe8>, line 3)",
     "output_type": "error",
     "traceback": [
      "\u001b[1;36m  File \u001b[1;32m\"<ipython-input-173-a2303ce4ebe8>\"\u001b[1;36m, line \u001b[1;32m3\u001b[0m\n\u001b[1;33m    from sklearn.linear_model import\u001b[0m\n\u001b[1;37m                                     ^\u001b[0m\n\u001b[1;31mSyntaxError\u001b[0m\u001b[1;31m:\u001b[0m invalid syntax\n"
     ]
    }
   ],
   "source": [
    "# from sklearn.preprocessing import PolynomialFeatures\n",
    "# from sklearn.pipeline import make_pipeline\n",
    "# from sklearn.linear_model import \n",
    "# poly=PolynomialFeatures(3)\n",
    "# num_train_data = poly.fit_transform(train_data[numeric_columns])\n",
    "# num_test_data = poly.transform(test_data[numeric_columns])"
   ]
  },
  {
   "cell_type": "code",
   "execution_count": 174,
   "id": "e3dc8fd7",
   "metadata": {},
   "outputs": [
    {
     "data": {
      "text/plain": [
       "(41367, 220)"
      ]
     },
     "execution_count": 174,
     "metadata": {},
     "output_type": "execute_result"
    }
   ],
   "source": [
    "num_train_data.shape"
   ]
  },
  {
   "cell_type": "code",
   "execution_count": 207,
   "id": "a4ab4b96",
   "metadata": {},
   "outputs": [],
   "source": [
    "unnum_cols = list(set(train_data.columns) - set(numeric_columns))"
   ]
  },
  {
   "cell_type": "code",
   "execution_count": 208,
   "id": "b255120e",
   "metadata": {},
   "outputs": [
    {
     "data": {
      "text/plain": [
       "((41367, 220), (41367, 59))"
      ]
     },
     "execution_count": 208,
     "metadata": {},
     "output_type": "execute_result"
    }
   ],
   "source": [
    "pd.DataFrame(num_train_data).shape,train_data[unnum_cols].shape"
   ]
  },
  {
   "cell_type": "code",
   "execution_count": 209,
   "id": "8b435564",
   "metadata": {},
   "outputs": [],
   "source": [
    "t_data = np.concatenate([num_train_data,train_data[unnum_cols].to_numpy()],axis=1)\n",
    "te_data = np.concatenate([num_test_data,test_data[unnum_cols].to_numpy()],axis=1)\n"
   ]
  },
  {
   "cell_type": "code",
   "execution_count": 210,
   "id": "7f159219",
   "metadata": {},
   "outputs": [
    {
     "data": {
      "text/plain": [
       "(11399, 220)"
      ]
     },
     "execution_count": 210,
     "metadata": {},
     "output_type": "execute_result"
    }
   ],
   "source": [
    "num_test_data.shape"
   ]
  },
  {
   "cell_type": "code",
   "execution_count": 211,
   "id": "d7973ace",
   "metadata": {},
   "outputs": [],
   "source": [
    "from sklearn.model_selection import train_test_split\n",
    "tr,te,ty,tey = train_test_split(t_data, target_y, test_size=0.30, random_state=42) "
   ]
  },
  {
   "cell_type": "code",
   "execution_count": 212,
   "id": "f9988edb",
   "metadata": {},
   "outputs": [
    {
     "data": {
      "text/plain": [
       "(11399,)"
      ]
     },
     "execution_count": 212,
     "metadata": {},
     "output_type": "execute_result"
    }
   ],
   "source": [
    "pred.shape"
   ]
  },
  {
   "cell_type": "code",
   "execution_count": 213,
   "id": "0fae8b80",
   "metadata": {},
   "outputs": [
    {
     "data": {
      "text/plain": [
       "(11399, 279)"
      ]
     },
     "execution_count": 213,
     "metadata": {},
     "output_type": "execute_result"
    }
   ],
   "source": [
    "te_data.shape"
   ]
  },
  {
   "cell_type": "code",
   "execution_count": 221,
   "id": "fa902da9",
   "metadata": {},
   "outputs": [
    {
     "name": "stdout",
     "output_type": "stream",
     "text": [
      "Collecting lightgbm\n",
      "  Downloading lightgbm-3.3.2-py3-none-win_amd64.whl (1.0 MB)\n",
      "Requirement already satisfied: wheel in c:\\users\\admin\\anaconda3\\lib\\site-packages (from lightgbm) (0.36.2)\n",
      "Requirement already satisfied: numpy in c:\\users\\admin\\anaconda3\\lib\\site-packages (from lightgbm) (1.20.1)\n",
      "Requirement already satisfied: scipy in c:\\users\\admin\\anaconda3\\lib\\site-packages (from lightgbm) (1.6.2)\n",
      "Requirement already satisfied: scikit-learn!=0.22.0 in c:\\users\\admin\\anaconda3\\lib\\site-packages (from lightgbm) (0.24.1)\n",
      "Requirement already satisfied: threadpoolctl>=2.0.0 in c:\\users\\admin\\anaconda3\\lib\\site-packages (from scikit-learn!=0.22.0->lightgbm) (2.1.0)\n",
      "Requirement already satisfied: joblib>=0.11 in c:\\users\\admin\\anaconda3\\lib\\site-packages (from scikit-learn!=0.22.0->lightgbm) (1.0.1)\n",
      "Installing collected packages: lightgbm\n",
      "Successfully installed lightgbm-3.3.2\n"
     ]
    }
   ],
   "source": [
    "!pip install lightgbm"
   ]
  },
  {
   "cell_type": "code",
   "execution_count": 234,
   "id": "df668470",
   "metadata": {},
   "outputs": [
    {
     "data": {
      "text/plain": [
       "GridSearchCV(cv=2, estimator=LGBMRegressor(objective='regression'),\n",
       "             param_grid={'learning_rate': [0.05],\n",
       "                         'n_estimators': range(200, 800, 100),\n",
       "                         'num_leaves': range(5, 60, 10)})"
      ]
     },
     "execution_count": 234,
     "metadata": {},
     "output_type": "execute_result"
    }
   ],
   "source": [
    "import lightgbm as lgbm\n",
    "from sklearn.model_selection import GridSearchCV\n",
    "lgb=lgbm.LGBMRegressor(objective='regression')\n",
    "params_grid = {'n_estimators':range(200, 800, 100), 'num_leaves':range(5,60,10),'learning_rate':[0.05]}\n",
    "clf = GridSearchCV(lgb, params_grid, cv=2)\n",
    "clf.fit(tr, ty)"
   ]
  },
  {
   "cell_type": "code",
   "execution_count": 235,
   "id": "b02ed04b",
   "metadata": {},
   "outputs": [
    {
     "name": "stdout",
     "output_type": "stream",
     "text": [
      "RMSE: 4.18\n",
      "R2: 0.80\n"
     ]
    }
   ],
   "source": [
    "from sklearn.metrics import mean_squared_error\n",
    "from sklearn.metrics import r2_score\n",
    "predv = clf.predict(te)\n",
    "rmse = (np.sqrt(mean_squared_error(tey, predv)))\n",
    "r2 = r2_score(tey, predv)\n",
    "print('RMSE: {:.2f}'.format(rmse))\n",
    "print('R2: {:.2f}'.format(r2))\n",
    "predt = clf.predict(te_data)"
   ]
  },
  {
   "cell_type": "code",
   "execution_count": 237,
   "id": "18b4800c",
   "metadata": {},
   "outputs": [
    {
     "data": {
      "text/plain": [
       "{'learning_rate': 0.05, 'n_estimators': 300, 'num_leaves': 55}"
      ]
     },
     "execution_count": 237,
     "metadata": {},
     "output_type": "execute_result"
    }
   ],
   "source": [
    "clf.best_params_"
   ]
  },
  {
   "cell_type": "code",
   "execution_count": 240,
   "id": "d8e4b10a",
   "metadata": {},
   "outputs": [],
   "source": [
    "#cat\n",
    "params: {'depth': 5,\n",
    "  'l2_leaf_reg': 1,\n",
    "  'iterations': 500,\n",
    "  'learning_rate': 0.05}\n",
    "         \n",
    "lgb_params = {'learning_rate': 0.05, 'n_estimators': 300, 'num_leaves': 55}"
   ]
  },
  {
   "cell_type": "code",
   "execution_count": 245,
   "id": "ee8d7579",
   "metadata": {},
   "outputs": [
    {
     "data": {
      "text/plain": [
       "LGBMRegressor(learning_rate=0.05, n_estimators=300, num_leaves=55,\n",
       "              objective='regression')"
      ]
     },
     "execution_count": 245,
     "metadata": {},
     "output_type": "execute_result"
    }
   ],
   "source": [
    "import lightgbm as lgbm\n",
    "lgb_wh=lgbm.LGBMRegressor(objective='regression',learning_rate= 0.05, n_estimators=300, num_leaves=55)\n",
    "lgb_wh.fit(t_data, target_y)"
   ]
  },
  {
   "cell_type": "code",
   "execution_count": 253,
   "id": "34deb9a5",
   "metadata": {},
   "outputs": [],
   "source": [
    "predtlgb = lgb_wh.predict(te_data)"
   ]
  },
  {
   "cell_type": "code",
   "execution_count": 251,
   "id": "80358b90",
   "metadata": {},
   "outputs": [
    {
     "name": "stderr",
     "output_type": "stream",
     "text": [
      "Custom logger is already specified. Specify more than one logger at same time is not thread safe."
     ]
    },
    {
     "name": "stdout",
     "output_type": "stream",
     "text": [
      "0:\tlearn: 9.0781957\ttotal: 65.7ms\tremaining: 32.8s\n",
      "1:\tlearn: 8.8417912\ttotal: 124ms\tremaining: 31s\n",
      "2:\tlearn: 8.6059031\ttotal: 187ms\tremaining: 31s\n",
      "3:\tlearn: 8.4007779\ttotal: 246ms\tremaining: 30.5s\n",
      "4:\tlearn: 8.2120453\ttotal: 312ms\tremaining: 30.8s\n",
      "5:\tlearn: 8.0335405\ttotal: 371ms\tremaining: 30.5s\n",
      "6:\tlearn: 7.8596281\ttotal: 425ms\tremaining: 29.9s\n",
      "7:\tlearn: 7.7073321\ttotal: 493ms\tremaining: 30.3s\n",
      "8:\tlearn: 7.5639367\ttotal: 560ms\tremaining: 30.5s\n",
      "9:\tlearn: 7.4321621\ttotal: 621ms\tremaining: 30.4s\n",
      "10:\tlearn: 7.2953750\ttotal: 689ms\tremaining: 30.6s\n",
      "11:\tlearn: 7.1695155\ttotal: 750ms\tremaining: 30.5s\n",
      "12:\tlearn: 7.0526369\ttotal: 813ms\tremaining: 30.5s\n",
      "13:\tlearn: 6.9371454\ttotal: 873ms\tremaining: 30.3s\n",
      "14:\tlearn: 6.8365444\ttotal: 934ms\tremaining: 30.2s\n",
      "15:\tlearn: 6.7449381\ttotal: 993ms\tremaining: 30s\n",
      "16:\tlearn: 6.6584275\ttotal: 1.05s\tremaining: 30s\n",
      "17:\tlearn: 6.5743788\ttotal: 1.14s\tremaining: 30.4s\n",
      "18:\tlearn: 6.4988908\ttotal: 1.24s\tremaining: 31.3s\n",
      "19:\tlearn: 6.4189936\ttotal: 1.32s\tremaining: 31.8s\n",
      "20:\tlearn: 6.3563986\ttotal: 1.39s\tremaining: 31.6s\n",
      "21:\tlearn: 6.2861713\ttotal: 1.45s\tremaining: 31.6s\n",
      "22:\tlearn: 6.2338643\ttotal: 1.52s\tremaining: 31.5s\n",
      "23:\tlearn: 6.1774952\ttotal: 1.58s\tremaining: 31.3s\n",
      "24:\tlearn: 6.1151575\ttotal: 1.64s\tremaining: 31.2s\n",
      "25:\tlearn: 6.0680811\ttotal: 1.7s\tremaining: 31s\n",
      "26:\tlearn: 6.0229018\ttotal: 1.75s\tremaining: 30.8s\n",
      "27:\tlearn: 5.9771469\ttotal: 1.82s\tremaining: 30.6s\n",
      "28:\tlearn: 5.9387850\ttotal: 1.88s\tremaining: 30.5s\n",
      "29:\tlearn: 5.8878930\ttotal: 1.95s\tremaining: 30.6s\n",
      "30:\tlearn: 5.8499931\ttotal: 2s\tremaining: 30.3s\n",
      "31:\tlearn: 5.8108375\ttotal: 2.06s\tremaining: 30.1s\n",
      "32:\tlearn: 5.7724087\ttotal: 2.13s\tremaining: 30.1s\n",
      "33:\tlearn: 5.7440085\ttotal: 2.19s\tremaining: 30s\n",
      "34:\tlearn: 5.7092111\ttotal: 2.24s\tremaining: 29.8s\n",
      "35:\tlearn: 5.6742216\ttotal: 2.31s\tremaining: 29.7s\n",
      "36:\tlearn: 5.6381967\ttotal: 2.37s\tremaining: 29.6s\n",
      "37:\tlearn: 5.6138610\ttotal: 2.43s\tremaining: 29.5s\n",
      "38:\tlearn: 5.5806589\ttotal: 2.49s\tremaining: 29.4s\n",
      "39:\tlearn: 5.5501320\ttotal: 2.54s\tremaining: 29.3s\n",
      "40:\tlearn: 5.5275805\ttotal: 2.6s\tremaining: 29.1s\n",
      "41:\tlearn: 5.5002020\ttotal: 2.66s\tremaining: 29s\n",
      "42:\tlearn: 5.4783646\ttotal: 2.72s\tremaining: 28.9s\n",
      "43:\tlearn: 5.4555824\ttotal: 2.78s\tremaining: 28.8s\n",
      "44:\tlearn: 5.4346718\ttotal: 2.84s\tremaining: 28.7s\n",
      "45:\tlearn: 5.4189094\ttotal: 2.91s\tremaining: 28.7s\n",
      "46:\tlearn: 5.3951913\ttotal: 2.96s\tremaining: 28.6s\n",
      "47:\tlearn: 5.3817087\ttotal: 3.01s\tremaining: 28.4s\n",
      "48:\tlearn: 5.3655233\ttotal: 3.07s\tremaining: 28.2s\n",
      "49:\tlearn: 5.3501163\ttotal: 3.14s\tremaining: 28.2s\n",
      "50:\tlearn: 5.3312363\ttotal: 3.2s\tremaining: 28.2s\n",
      "51:\tlearn: 5.3130489\ttotal: 3.26s\tremaining: 28.1s\n",
      "52:\tlearn: 5.2996376\ttotal: 3.31s\tremaining: 27.9s\n",
      "53:\tlearn: 5.2788808\ttotal: 3.38s\tremaining: 27.9s\n",
      "54:\tlearn: 5.2689186\ttotal: 3.44s\tremaining: 27.8s\n",
      "55:\tlearn: 5.2604926\ttotal: 3.5s\tremaining: 27.7s\n",
      "56:\tlearn: 5.2520727\ttotal: 3.56s\tremaining: 27.7s\n",
      "57:\tlearn: 5.2351867\ttotal: 3.63s\tremaining: 27.7s\n",
      "58:\tlearn: 5.2238964\ttotal: 3.69s\tremaining: 27.6s\n",
      "59:\tlearn: 5.2142092\ttotal: 3.74s\tremaining: 27.4s\n",
      "60:\tlearn: 5.1988692\ttotal: 3.8s\tremaining: 27.4s\n",
      "61:\tlearn: 5.1843611\ttotal: 3.87s\tremaining: 27.3s\n",
      "62:\tlearn: 5.1747127\ttotal: 3.93s\tremaining: 27.2s\n",
      "63:\tlearn: 5.1638524\ttotal: 3.99s\tremaining: 27.2s\n",
      "64:\tlearn: 5.1575317\ttotal: 4.03s\tremaining: 27s\n",
      "65:\tlearn: 5.1517239\ttotal: 4.1s\tremaining: 27s\n",
      "66:\tlearn: 5.1402626\ttotal: 4.17s\tremaining: 26.9s\n",
      "67:\tlearn: 5.1326961\ttotal: 4.22s\tremaining: 26.8s\n",
      "68:\tlearn: 5.1214254\ttotal: 4.28s\tremaining: 26.7s\n",
      "69:\tlearn: 5.1133082\ttotal: 4.35s\tremaining: 26.7s\n",
      "70:\tlearn: 5.1076543\ttotal: 4.41s\tremaining: 26.7s\n",
      "71:\tlearn: 5.1003098\ttotal: 4.47s\tremaining: 26.6s\n",
      "72:\tlearn: 5.0902120\ttotal: 4.54s\tremaining: 26.5s\n",
      "73:\tlearn: 5.0832272\ttotal: 4.6s\tremaining: 26.5s\n",
      "74:\tlearn: 5.0767667\ttotal: 4.65s\tremaining: 26.3s\n",
      "75:\tlearn: 5.0700379\ttotal: 4.7s\tremaining: 26.2s\n",
      "76:\tlearn: 5.0630891\ttotal: 4.76s\tremaining: 26.2s\n",
      "77:\tlearn: 5.0560489\ttotal: 4.82s\tremaining: 26.1s\n",
      "78:\tlearn: 5.0440781\ttotal: 4.88s\tremaining: 26s\n",
      "79:\tlearn: 5.0386286\ttotal: 4.94s\tremaining: 25.9s\n",
      "80:\tlearn: 5.0304871\ttotal: 5s\tremaining: 25.9s\n",
      "81:\tlearn: 5.0221676\ttotal: 5.11s\tremaining: 26s\n",
      "82:\tlearn: 5.0182441\ttotal: 5.21s\tremaining: 26.2s\n",
      "83:\tlearn: 5.0097486\ttotal: 5.28s\tremaining: 26.1s\n",
      "84:\tlearn: 5.0067117\ttotal: 5.36s\tremaining: 26.1s\n",
      "85:\tlearn: 4.9992062\ttotal: 5.41s\tremaining: 26.1s\n",
      "86:\tlearn: 4.9942494\ttotal: 5.46s\tremaining: 25.9s\n",
      "87:\tlearn: 4.9860140\ttotal: 5.52s\tremaining: 25.8s\n",
      "88:\tlearn: 4.9800954\ttotal: 5.58s\tremaining: 25.8s\n",
      "89:\tlearn: 4.9775570\ttotal: 5.64s\tremaining: 25.7s\n",
      "90:\tlearn: 4.9709663\ttotal: 5.71s\tremaining: 25.7s\n",
      "91:\tlearn: 4.9660829\ttotal: 5.76s\tremaining: 25.6s\n",
      "92:\tlearn: 4.9635123\ttotal: 5.83s\tremaining: 25.5s\n",
      "93:\tlearn: 4.9583162\ttotal: 5.89s\tremaining: 25.4s\n",
      "94:\tlearn: 4.9513465\ttotal: 5.95s\tremaining: 25.3s\n",
      "95:\tlearn: 4.9483861\ttotal: 6.02s\tremaining: 25.3s\n",
      "96:\tlearn: 4.9420575\ttotal: 6.13s\tremaining: 25.5s\n",
      "97:\tlearn: 4.9381558\ttotal: 6.22s\tremaining: 25.5s\n",
      "98:\tlearn: 4.9352409\ttotal: 6.29s\tremaining: 25.5s\n",
      "99:\tlearn: 4.9302600\ttotal: 6.35s\tremaining: 25.4s\n",
      "100:\tlearn: 4.9265486\ttotal: 6.41s\tremaining: 25.3s\n",
      "101:\tlearn: 4.9224741\ttotal: 6.47s\tremaining: 25.2s\n",
      "102:\tlearn: 4.9190189\ttotal: 6.52s\tremaining: 25.1s\n",
      "103:\tlearn: 4.9165560\ttotal: 6.58s\tremaining: 25.1s\n",
      "104:\tlearn: 4.9110420\ttotal: 6.64s\tremaining: 25s\n",
      "105:\tlearn: 4.9071056\ttotal: 6.69s\tremaining: 24.9s\n",
      "106:\tlearn: 4.9047871\ttotal: 6.77s\tremaining: 24.9s\n",
      "107:\tlearn: 4.8991527\ttotal: 6.83s\tremaining: 24.8s\n",
      "108:\tlearn: 4.8967469\ttotal: 6.88s\tremaining: 24.7s\n",
      "109:\tlearn: 4.8882139\ttotal: 6.95s\tremaining: 24.6s\n",
      "110:\tlearn: 4.8865758\ttotal: 7.01s\tremaining: 24.6s\n",
      "111:\tlearn: 4.8840165\ttotal: 7.06s\tremaining: 24.5s\n",
      "112:\tlearn: 4.8761493\ttotal: 7.12s\tremaining: 24.4s\n",
      "113:\tlearn: 4.8723635\ttotal: 7.18s\tremaining: 24.3s\n",
      "114:\tlearn: 4.8695143\ttotal: 7.24s\tremaining: 24.2s\n",
      "115:\tlearn: 4.8672511\ttotal: 7.29s\tremaining: 24.2s\n",
      "116:\tlearn: 4.8632190\ttotal: 7.35s\tremaining: 24.1s\n",
      "117:\tlearn: 4.8581118\ttotal: 7.41s\tremaining: 24s\n",
      "118:\tlearn: 4.8567459\ttotal: 7.47s\tremaining: 23.9s\n",
      "119:\tlearn: 4.8545659\ttotal: 7.53s\tremaining: 23.8s\n",
      "120:\tlearn: 4.8532192\ttotal: 7.58s\tremaining: 23.7s\n",
      "121:\tlearn: 4.8519318\ttotal: 7.62s\tremaining: 23.6s\n",
      "122:\tlearn: 4.8468092\ttotal: 7.69s\tremaining: 23.6s\n",
      "123:\tlearn: 4.8446417\ttotal: 7.74s\tremaining: 23.5s\n",
      "124:\tlearn: 4.8436413\ttotal: 7.79s\tremaining: 23.4s\n",
      "125:\tlearn: 4.8414265\ttotal: 7.85s\tremaining: 23.3s\n",
      "126:\tlearn: 4.8361306\ttotal: 7.9s\tremaining: 23.2s\n",
      "127:\tlearn: 4.8339748\ttotal: 7.96s\tremaining: 23.1s\n",
      "128:\tlearn: 4.8315263\ttotal: 8.02s\tremaining: 23.1s\n",
      "129:\tlearn: 4.8294197\ttotal: 8.08s\tremaining: 23s\n",
      "130:\tlearn: 4.8257562\ttotal: 8.13s\tremaining: 22.9s\n",
      "131:\tlearn: 4.8247373\ttotal: 8.19s\tremaining: 22.8s\n",
      "132:\tlearn: 4.8228752\ttotal: 8.24s\tremaining: 22.7s\n",
      "133:\tlearn: 4.8206693\ttotal: 8.31s\tremaining: 22.7s\n",
      "134:\tlearn: 4.8184057\ttotal: 8.36s\tremaining: 22.6s\n",
      "135:\tlearn: 4.8161270\ttotal: 8.41s\tremaining: 22.5s\n",
      "136:\tlearn: 4.8146345\ttotal: 8.47s\tremaining: 22.4s\n",
      "137:\tlearn: 4.8123651\ttotal: 8.53s\tremaining: 22.4s\n",
      "138:\tlearn: 4.8109464\ttotal: 8.58s\tremaining: 22.3s\n",
      "139:\tlearn: 4.8084801\ttotal: 8.64s\tremaining: 22.2s\n",
      "140:\tlearn: 4.8041751\ttotal: 8.7s\tremaining: 22.1s\n",
      "141:\tlearn: 4.8011577\ttotal: 8.76s\tremaining: 22.1s\n",
      "142:\tlearn: 4.7989808\ttotal: 8.81s\tremaining: 22s\n",
      "143:\tlearn: 4.7963957\ttotal: 8.87s\tremaining: 21.9s\n",
      "144:\tlearn: 4.7945033\ttotal: 8.93s\tremaining: 21.9s\n",
      "145:\tlearn: 4.7914040\ttotal: 8.99s\tremaining: 21.8s\n",
      "146:\tlearn: 4.7899050\ttotal: 9.05s\tremaining: 21.7s\n",
      "147:\tlearn: 4.7891339\ttotal: 9.1s\tremaining: 21.6s\n",
      "148:\tlearn: 4.7882608\ttotal: 9.15s\tremaining: 21.6s\n",
      "149:\tlearn: 4.7861368\ttotal: 9.21s\tremaining: 21.5s\n",
      "150:\tlearn: 4.7852063\ttotal: 9.26s\tremaining: 21.4s\n",
      "151:\tlearn: 4.7844561\ttotal: 9.31s\tremaining: 21.3s\n",
      "152:\tlearn: 4.7816134\ttotal: 9.36s\tremaining: 21.2s\n",
      "153:\tlearn: 4.7808666\ttotal: 9.41s\tremaining: 21.1s\n",
      "154:\tlearn: 4.7781967\ttotal: 9.47s\tremaining: 21.1s\n",
      "155:\tlearn: 4.7761719\ttotal: 9.53s\tremaining: 21s\n",
      "156:\tlearn: 4.7752212\ttotal: 9.59s\tremaining: 21s\n",
      "157:\tlearn: 4.7718305\ttotal: 9.66s\tremaining: 20.9s\n",
      "158:\tlearn: 4.7699895\ttotal: 9.78s\tremaining: 21s\n",
      "159:\tlearn: 4.7670777\ttotal: 9.87s\tremaining: 21s\n",
      "160:\tlearn: 4.7664614\ttotal: 9.98s\tremaining: 21s\n",
      "161:\tlearn: 4.7603910\ttotal: 10.1s\tremaining: 21s\n"
     ]
    },
    {
     "name": "stdout",
     "output_type": "stream",
     "text": [
      "162:\tlearn: 4.7590117\ttotal: 10.1s\tremaining: 21s\n",
      "163:\tlearn: 4.7575790\ttotal: 10.2s\tremaining: 20.9s\n",
      "164:\tlearn: 4.7540775\ttotal: 10.3s\tremaining: 20.8s\n",
      "165:\tlearn: 4.7523580\ttotal: 10.3s\tremaining: 20.8s\n",
      "166:\tlearn: 4.7516455\ttotal: 10.5s\tremaining: 20.8s\n",
      "167:\tlearn: 4.7500012\ttotal: 10.6s\tremaining: 20.9s\n",
      "168:\tlearn: 4.7483798\ttotal: 10.6s\tremaining: 20.8s\n",
      "169:\tlearn: 4.7445547\ttotal: 10.7s\tremaining: 20.7s\n",
      "170:\tlearn: 4.7405702\ttotal: 10.7s\tremaining: 20.6s\n",
      "171:\tlearn: 4.7394189\ttotal: 10.8s\tremaining: 20.6s\n",
      "172:\tlearn: 4.7387935\ttotal: 10.9s\tremaining: 20.6s\n",
      "173:\tlearn: 4.7381027\ttotal: 11s\tremaining: 20.6s\n",
      "174:\tlearn: 4.7352677\ttotal: 11.1s\tremaining: 20.5s\n",
      "175:\tlearn: 4.7326870\ttotal: 11.1s\tremaining: 20.5s\n",
      "176:\tlearn: 4.7320185\ttotal: 11.2s\tremaining: 20.4s\n",
      "177:\tlearn: 4.7309633\ttotal: 11.2s\tremaining: 20.3s\n",
      "178:\tlearn: 4.7300528\ttotal: 11.3s\tremaining: 20.3s\n",
      "179:\tlearn: 4.7289150\ttotal: 11.4s\tremaining: 20.2s\n",
      "180:\tlearn: 4.7269673\ttotal: 11.4s\tremaining: 20.1s\n",
      "181:\tlearn: 4.7256126\ttotal: 11.5s\tremaining: 20.1s\n",
      "182:\tlearn: 4.7243962\ttotal: 11.5s\tremaining: 20s\n",
      "183:\tlearn: 4.7227219\ttotal: 11.6s\tremaining: 19.9s\n",
      "184:\tlearn: 4.7220098\ttotal: 11.7s\tremaining: 19.9s\n",
      "185:\tlearn: 4.7200436\ttotal: 11.7s\tremaining: 19.8s\n",
      "186:\tlearn: 4.7174741\ttotal: 11.8s\tremaining: 19.8s\n",
      "187:\tlearn: 4.7150037\ttotal: 11.9s\tremaining: 19.8s\n",
      "188:\tlearn: 4.7142356\ttotal: 12s\tremaining: 19.8s\n",
      "189:\tlearn: 4.7129054\ttotal: 12.1s\tremaining: 19.8s\n",
      "190:\tlearn: 4.7100435\ttotal: 12.2s\tremaining: 19.7s\n",
      "191:\tlearn: 4.7095306\ttotal: 12.2s\tremaining: 19.6s\n",
      "192:\tlearn: 4.7088772\ttotal: 12.3s\tremaining: 19.6s\n",
      "193:\tlearn: 4.7059064\ttotal: 12.4s\tremaining: 19.5s\n",
      "194:\tlearn: 4.7042928\ttotal: 12.4s\tremaining: 19.4s\n",
      "195:\tlearn: 4.7016570\ttotal: 12.5s\tremaining: 19.4s\n",
      "196:\tlearn: 4.6990153\ttotal: 12.6s\tremaining: 19.3s\n",
      "197:\tlearn: 4.6964860\ttotal: 12.6s\tremaining: 19.2s\n",
      "198:\tlearn: 4.6939451\ttotal: 12.7s\tremaining: 19.2s\n",
      "199:\tlearn: 4.6934889\ttotal: 12.7s\tremaining: 19.1s\n",
      "200:\tlearn: 4.6902096\ttotal: 12.8s\tremaining: 19.1s\n",
      "201:\tlearn: 4.6891869\ttotal: 12.9s\tremaining: 19s\n",
      "202:\tlearn: 4.6874525\ttotal: 12.9s\tremaining: 18.9s\n",
      "203:\tlearn: 4.6856491\ttotal: 13s\tremaining: 18.8s\n",
      "204:\tlearn: 4.6830594\ttotal: 13s\tremaining: 18.8s\n",
      "205:\tlearn: 4.6816372\ttotal: 13.1s\tremaining: 18.7s\n",
      "206:\tlearn: 4.6773762\ttotal: 13.2s\tremaining: 18.6s\n",
      "207:\tlearn: 4.6765317\ttotal: 13.2s\tremaining: 18.5s\n",
      "208:\tlearn: 4.6756158\ttotal: 13.3s\tremaining: 18.5s\n",
      "209:\tlearn: 4.6729485\ttotal: 13.3s\tremaining: 18.4s\n",
      "210:\tlearn: 4.6723674\ttotal: 13.4s\tremaining: 18.4s\n",
      "211:\tlearn: 4.6691169\ttotal: 13.5s\tremaining: 18.3s\n",
      "212:\tlearn: 4.6679713\ttotal: 13.5s\tremaining: 18.2s\n",
      "213:\tlearn: 4.6671577\ttotal: 13.6s\tremaining: 18.1s\n",
      "214:\tlearn: 4.6654189\ttotal: 13.6s\tremaining: 18.1s\n",
      "215:\tlearn: 4.6635995\ttotal: 13.7s\tremaining: 18s\n",
      "216:\tlearn: 4.6626534\ttotal: 13.8s\tremaining: 18s\n",
      "217:\tlearn: 4.6614076\ttotal: 13.8s\tremaining: 17.9s\n",
      "218:\tlearn: 4.6582265\ttotal: 13.9s\tremaining: 17.8s\n",
      "219:\tlearn: 4.6563645\ttotal: 13.9s\tremaining: 17.7s\n",
      "220:\tlearn: 4.6537962\ttotal: 14s\tremaining: 17.7s\n",
      "221:\tlearn: 4.6523891\ttotal: 14.1s\tremaining: 17.6s\n",
      "222:\tlearn: 4.6493762\ttotal: 14.1s\tremaining: 17.5s\n",
      "223:\tlearn: 4.6454141\ttotal: 14.2s\tremaining: 17.5s\n",
      "224:\tlearn: 4.6435342\ttotal: 14.2s\tremaining: 17.4s\n",
      "225:\tlearn: 4.6408601\ttotal: 14.3s\tremaining: 17.3s\n",
      "226:\tlearn: 4.6401346\ttotal: 14.3s\tremaining: 17.3s\n",
      "227:\tlearn: 4.6376762\ttotal: 14.4s\tremaining: 17.2s\n",
      "228:\tlearn: 4.6353086\ttotal: 14.5s\tremaining: 17.1s\n",
      "229:\tlearn: 4.6325328\ttotal: 14.5s\tremaining: 17.1s\n",
      "230:\tlearn: 4.6303655\ttotal: 14.6s\tremaining: 17s\n",
      "231:\tlearn: 4.6295146\ttotal: 14.7s\tremaining: 16.9s\n",
      "232:\tlearn: 4.6273490\ttotal: 14.7s\tremaining: 16.9s\n",
      "233:\tlearn: 4.6261622\ttotal: 14.8s\tremaining: 16.8s\n",
      "234:\tlearn: 4.6238064\ttotal: 14.9s\tremaining: 16.8s\n",
      "235:\tlearn: 4.6213557\ttotal: 14.9s\tremaining: 16.7s\n",
      "236:\tlearn: 4.6196022\ttotal: 15s\tremaining: 16.6s\n",
      "237:\tlearn: 4.6169345\ttotal: 15.1s\tremaining: 16.6s\n",
      "238:\tlearn: 4.6133469\ttotal: 15.2s\tremaining: 16.6s\n",
      "239:\tlearn: 4.6112463\ttotal: 15.3s\tremaining: 16.6s\n",
      "240:\tlearn: 4.6091866\ttotal: 15.4s\tremaining: 16.5s\n",
      "241:\tlearn: 4.6072212\ttotal: 15.4s\tremaining: 16.4s\n",
      "242:\tlearn: 4.6056814\ttotal: 15.5s\tremaining: 16.4s\n",
      "243:\tlearn: 4.6044925\ttotal: 15.5s\tremaining: 16.3s\n",
      "244:\tlearn: 4.6000650\ttotal: 15.6s\tremaining: 16.2s\n",
      "245:\tlearn: 4.5972529\ttotal: 15.7s\tremaining: 16.2s\n",
      "246:\tlearn: 4.5967831\ttotal: 15.7s\tremaining: 16.1s\n",
      "247:\tlearn: 4.5948033\ttotal: 15.8s\tremaining: 16s\n",
      "248:\tlearn: 4.5925688\ttotal: 15.8s\tremaining: 16s\n",
      "249:\tlearn: 4.5907085\ttotal: 15.9s\tremaining: 15.9s\n",
      "250:\tlearn: 4.5897014\ttotal: 15.9s\tremaining: 15.8s\n",
      "251:\tlearn: 4.5884747\ttotal: 16s\tremaining: 15.7s\n",
      "252:\tlearn: 4.5867359\ttotal: 16.1s\tremaining: 15.7s\n",
      "253:\tlearn: 4.5852128\ttotal: 16.1s\tremaining: 15.6s\n",
      "254:\tlearn: 4.5839416\ttotal: 16.2s\tremaining: 15.6s\n",
      "255:\tlearn: 4.5826652\ttotal: 16.3s\tremaining: 15.5s\n",
      "256:\tlearn: 4.5799049\ttotal: 16.3s\tremaining: 15.4s\n",
      "257:\tlearn: 4.5781758\ttotal: 16.4s\tremaining: 15.4s\n",
      "258:\tlearn: 4.5767134\ttotal: 16.5s\tremaining: 15.3s\n",
      "259:\tlearn: 4.5747075\ttotal: 16.5s\tremaining: 15.2s\n",
      "260:\tlearn: 4.5723650\ttotal: 16.6s\tremaining: 15.2s\n",
      "261:\tlearn: 4.5706962\ttotal: 16.6s\tremaining: 15.1s\n",
      "262:\tlearn: 4.5693782\ttotal: 16.7s\tremaining: 15s\n",
      "263:\tlearn: 4.5669573\ttotal: 16.8s\tremaining: 15s\n",
      "264:\tlearn: 4.5658192\ttotal: 16.8s\tremaining: 14.9s\n",
      "265:\tlearn: 4.5630124\ttotal: 16.9s\tremaining: 14.8s\n",
      "266:\tlearn: 4.5613338\ttotal: 16.9s\tremaining: 14.8s\n",
      "267:\tlearn: 4.5599862\ttotal: 17s\tremaining: 14.7s\n",
      "268:\tlearn: 4.5590413\ttotal: 17.1s\tremaining: 14.6s\n",
      "269:\tlearn: 4.5565905\ttotal: 17.1s\tremaining: 14.6s\n",
      "270:\tlearn: 4.5555066\ttotal: 17.2s\tremaining: 14.5s\n",
      "271:\tlearn: 4.5544603\ttotal: 17.2s\tremaining: 14.4s\n",
      "272:\tlearn: 4.5533994\ttotal: 17.3s\tremaining: 14.4s\n",
      "273:\tlearn: 4.5510581\ttotal: 17.4s\tremaining: 14.3s\n",
      "274:\tlearn: 4.5497904\ttotal: 17.4s\tremaining: 14.3s\n",
      "275:\tlearn: 4.5483835\ttotal: 17.5s\tremaining: 14.2s\n",
      "276:\tlearn: 4.5474046\ttotal: 17.6s\tremaining: 14.1s\n",
      "277:\tlearn: 4.5451346\ttotal: 17.6s\tremaining: 14.1s\n",
      "278:\tlearn: 4.5438640\ttotal: 17.7s\tremaining: 14s\n",
      "279:\tlearn: 4.5426225\ttotal: 17.8s\tremaining: 14s\n",
      "280:\tlearn: 4.5409866\ttotal: 17.8s\tremaining: 13.9s\n",
      "281:\tlearn: 4.5403308\ttotal: 17.9s\tremaining: 13.8s\n",
      "282:\tlearn: 4.5386072\ttotal: 17.9s\tremaining: 13.8s\n",
      "283:\tlearn: 4.5376213\ttotal: 18s\tremaining: 13.7s\n",
      "284:\tlearn: 4.5345848\ttotal: 18.1s\tremaining: 13.6s\n",
      "285:\tlearn: 4.5322548\ttotal: 18.1s\tremaining: 13.6s\n",
      "286:\tlearn: 4.5303771\ttotal: 18.2s\tremaining: 13.5s\n",
      "287:\tlearn: 4.5275435\ttotal: 18.3s\tremaining: 13.4s\n",
      "288:\tlearn: 4.5260240\ttotal: 18.3s\tremaining: 13.4s\n",
      "289:\tlearn: 4.5241962\ttotal: 18.4s\tremaining: 13.3s\n",
      "290:\tlearn: 4.5230223\ttotal: 18.4s\tremaining: 13.2s\n",
      "291:\tlearn: 4.5193743\ttotal: 18.5s\tremaining: 13.2s\n",
      "292:\tlearn: 4.5176359\ttotal: 18.6s\tremaining: 13.1s\n",
      "293:\tlearn: 4.5168800\ttotal: 18.6s\tremaining: 13.1s\n",
      "294:\tlearn: 4.5160483\ttotal: 18.7s\tremaining: 13s\n",
      "295:\tlearn: 4.5139858\ttotal: 18.7s\tremaining: 12.9s\n",
      "296:\tlearn: 4.5124865\ttotal: 18.8s\tremaining: 12.8s\n",
      "297:\tlearn: 4.5112397\ttotal: 18.9s\tremaining: 12.8s\n",
      "298:\tlearn: 4.5095064\ttotal: 18.9s\tremaining: 12.7s\n",
      "299:\tlearn: 4.5084557\ttotal: 19s\tremaining: 12.7s\n",
      "300:\tlearn: 4.5078029\ttotal: 19s\tremaining: 12.6s\n",
      "301:\tlearn: 4.5066316\ttotal: 19.1s\tremaining: 12.5s\n",
      "302:\tlearn: 4.5050836\ttotal: 19.1s\tremaining: 12.4s\n",
      "303:\tlearn: 4.5032701\ttotal: 19.2s\tremaining: 12.4s\n",
      "304:\tlearn: 4.5021500\ttotal: 19.3s\tremaining: 12.3s\n",
      "305:\tlearn: 4.5003294\ttotal: 19.3s\tremaining: 12.3s\n",
      "306:\tlearn: 4.4985123\ttotal: 19.4s\tremaining: 12.2s\n",
      "307:\tlearn: 4.4976361\ttotal: 19.5s\tremaining: 12.1s\n",
      "308:\tlearn: 4.4957423\ttotal: 19.5s\tremaining: 12.1s\n",
      "309:\tlearn: 4.4941522\ttotal: 19.6s\tremaining: 12s\n",
      "310:\tlearn: 4.4922185\ttotal: 19.6s\tremaining: 11.9s\n",
      "311:\tlearn: 4.4907771\ttotal: 19.7s\tremaining: 11.9s\n",
      "312:\tlearn: 4.4895246\ttotal: 19.8s\tremaining: 11.8s\n",
      "313:\tlearn: 4.4887013\ttotal: 19.8s\tremaining: 11.7s\n",
      "314:\tlearn: 4.4881224\ttotal: 19.9s\tremaining: 11.7s\n",
      "315:\tlearn: 4.4873737\ttotal: 19.9s\tremaining: 11.6s\n",
      "316:\tlearn: 4.4849700\ttotal: 20s\tremaining: 11.5s\n",
      "317:\tlearn: 4.4835633\ttotal: 20s\tremaining: 11.5s\n",
      "318:\tlearn: 4.4824427\ttotal: 20.1s\tremaining: 11.4s\n",
      "319:\tlearn: 4.4803273\ttotal: 20.2s\tremaining: 11.3s\n",
      "320:\tlearn: 4.4773356\ttotal: 20.2s\tremaining: 11.3s\n",
      "321:\tlearn: 4.4753727\ttotal: 20.3s\tremaining: 11.2s\n",
      "322:\tlearn: 4.4740591\ttotal: 20.3s\tremaining: 11.2s\n",
      "323:\tlearn: 4.4722868\ttotal: 20.4s\tremaining: 11.1s\n"
     ]
    },
    {
     "name": "stdout",
     "output_type": "stream",
     "text": [
      "324:\tlearn: 4.4717140\ttotal: 20.5s\tremaining: 11s\n",
      "325:\tlearn: 4.4711779\ttotal: 20.5s\tremaining: 11s\n",
      "326:\tlearn: 4.4685291\ttotal: 20.6s\tremaining: 10.9s\n",
      "327:\tlearn: 4.4674903\ttotal: 20.7s\tremaining: 10.8s\n",
      "328:\tlearn: 4.4661787\ttotal: 20.7s\tremaining: 10.8s\n",
      "329:\tlearn: 4.4651951\ttotal: 20.8s\tremaining: 10.7s\n",
      "330:\tlearn: 4.4642105\ttotal: 20.8s\tremaining: 10.6s\n",
      "331:\tlearn: 4.4630002\ttotal: 20.9s\tremaining: 10.6s\n",
      "332:\tlearn: 4.4622121\ttotal: 20.9s\tremaining: 10.5s\n",
      "333:\tlearn: 4.4609548\ttotal: 21s\tremaining: 10.4s\n",
      "334:\tlearn: 4.4601753\ttotal: 21.1s\tremaining: 10.4s\n",
      "335:\tlearn: 4.4593815\ttotal: 21.1s\tremaining: 10.3s\n",
      "336:\tlearn: 4.4581595\ttotal: 21.2s\tremaining: 10.3s\n",
      "337:\tlearn: 4.4572333\ttotal: 21.3s\tremaining: 10.2s\n",
      "338:\tlearn: 4.4561639\ttotal: 21.3s\tremaining: 10.1s\n",
      "339:\tlearn: 4.4543816\ttotal: 21.4s\tremaining: 10.1s\n",
      "340:\tlearn: 4.4535187\ttotal: 21.4s\tremaining: 9.99s\n",
      "341:\tlearn: 4.4525984\ttotal: 21.5s\tremaining: 9.93s\n",
      "342:\tlearn: 4.4521178\ttotal: 21.5s\tremaining: 9.86s\n",
      "343:\tlearn: 4.4508251\ttotal: 21.6s\tremaining: 9.8s\n",
      "344:\tlearn: 4.4502638\ttotal: 21.7s\tremaining: 9.73s\n",
      "345:\tlearn: 4.4479160\ttotal: 21.7s\tremaining: 9.67s\n",
      "346:\tlearn: 4.4467410\ttotal: 21.8s\tremaining: 9.6s\n",
      "347:\tlearn: 4.4448453\ttotal: 21.8s\tremaining: 9.54s\n",
      "348:\tlearn: 4.4427136\ttotal: 21.9s\tremaining: 9.48s\n",
      "349:\tlearn: 4.4415635\ttotal: 22s\tremaining: 9.41s\n",
      "350:\tlearn: 4.4407464\ttotal: 22s\tremaining: 9.36s\n",
      "351:\tlearn: 4.4394697\ttotal: 22.1s\tremaining: 9.3s\n",
      "352:\tlearn: 4.4383861\ttotal: 22.2s\tremaining: 9.23s\n",
      "353:\tlearn: 4.4376873\ttotal: 22.2s\tremaining: 9.17s\n",
      "354:\tlearn: 4.4361710\ttotal: 22.3s\tremaining: 9.1s\n",
      "355:\tlearn: 4.4347625\ttotal: 22.3s\tremaining: 9.04s\n",
      "356:\tlearn: 4.4330778\ttotal: 22.4s\tremaining: 8.97s\n",
      "357:\tlearn: 4.4323168\ttotal: 22.5s\tremaining: 8.91s\n",
      "358:\tlearn: 4.4308274\ttotal: 22.5s\tremaining: 8.85s\n",
      "359:\tlearn: 4.4293053\ttotal: 22.6s\tremaining: 8.79s\n",
      "360:\tlearn: 4.4276808\ttotal: 22.7s\tremaining: 8.72s\n",
      "361:\tlearn: 4.4271999\ttotal: 22.7s\tremaining: 8.66s\n",
      "362:\tlearn: 4.4253745\ttotal: 22.8s\tremaining: 8.6s\n",
      "363:\tlearn: 4.4245468\ttotal: 22.8s\tremaining: 8.53s\n",
      "364:\tlearn: 4.4234848\ttotal: 22.9s\tremaining: 8.47s\n",
      "365:\tlearn: 4.4228168\ttotal: 23s\tremaining: 8.4s\n",
      "366:\tlearn: 4.4217257\ttotal: 23s\tremaining: 8.34s\n",
      "367:\tlearn: 4.4205851\ttotal: 23.1s\tremaining: 8.28s\n",
      "368:\tlearn: 4.4198595\ttotal: 23.1s\tremaining: 8.21s\n",
      "369:\tlearn: 4.4194288\ttotal: 23.2s\tremaining: 8.15s\n",
      "370:\tlearn: 4.4174692\ttotal: 23.3s\tremaining: 8.09s\n",
      "371:\tlearn: 4.4148793\ttotal: 23.3s\tremaining: 8.03s\n",
      "372:\tlearn: 4.4142575\ttotal: 23.4s\tremaining: 7.96s\n",
      "373:\tlearn: 4.4135115\ttotal: 23.4s\tremaining: 7.9s\n",
      "374:\tlearn: 4.4121681\ttotal: 23.5s\tremaining: 7.84s\n",
      "375:\tlearn: 4.4108934\ttotal: 23.6s\tremaining: 7.77s\n",
      "376:\tlearn: 4.4097746\ttotal: 23.6s\tremaining: 7.71s\n",
      "377:\tlearn: 4.4091633\ttotal: 23.7s\tremaining: 7.64s\n",
      "378:\tlearn: 4.4082867\ttotal: 23.7s\tremaining: 7.58s\n",
      "379:\tlearn: 4.4071136\ttotal: 23.8s\tremaining: 7.51s\n",
      "380:\tlearn: 4.4065632\ttotal: 23.9s\tremaining: 7.45s\n",
      "381:\tlearn: 4.4042109\ttotal: 23.9s\tremaining: 7.39s\n",
      "382:\tlearn: 4.4030675\ttotal: 24s\tremaining: 7.33s\n",
      "383:\tlearn: 4.4025397\ttotal: 24.1s\tremaining: 7.26s\n",
      "384:\tlearn: 4.4015602\ttotal: 24.1s\tremaining: 7.2s\n",
      "385:\tlearn: 4.3996205\ttotal: 24.2s\tremaining: 7.14s\n",
      "386:\tlearn: 4.3975533\ttotal: 24.2s\tremaining: 7.08s\n",
      "387:\tlearn: 4.3961858\ttotal: 24.3s\tremaining: 7.02s\n",
      "388:\tlearn: 4.3951140\ttotal: 24.4s\tremaining: 6.95s\n",
      "389:\tlearn: 4.3946352\ttotal: 24.4s\tremaining: 6.89s\n",
      "390:\tlearn: 4.3936622\ttotal: 24.5s\tremaining: 6.83s\n",
      "391:\tlearn: 4.3930151\ttotal: 24.6s\tremaining: 6.76s\n",
      "392:\tlearn: 4.3926256\ttotal: 24.6s\tremaining: 6.7s\n",
      "393:\tlearn: 4.3916395\ttotal: 24.7s\tremaining: 6.64s\n",
      "394:\tlearn: 4.3897418\ttotal: 24.7s\tremaining: 6.58s\n",
      "395:\tlearn: 4.3881319\ttotal: 24.8s\tremaining: 6.52s\n",
      "396:\tlearn: 4.3870458\ttotal: 24.9s\tremaining: 6.45s\n",
      "397:\tlearn: 4.3861722\ttotal: 24.9s\tremaining: 6.39s\n",
      "398:\tlearn: 4.3847253\ttotal: 25s\tremaining: 6.33s\n",
      "399:\tlearn: 4.3842732\ttotal: 25.1s\tremaining: 6.27s\n",
      "400:\tlearn: 4.3838129\ttotal: 25.1s\tremaining: 6.2s\n",
      "401:\tlearn: 4.3829400\ttotal: 25.2s\tremaining: 6.14s\n",
      "402:\tlearn: 4.3824902\ttotal: 25.2s\tremaining: 6.08s\n",
      "403:\tlearn: 4.3808294\ttotal: 25.3s\tremaining: 6.01s\n",
      "404:\tlearn: 4.3803443\ttotal: 25.4s\tremaining: 5.95s\n",
      "405:\tlearn: 4.3797979\ttotal: 25.4s\tremaining: 5.89s\n",
      "406:\tlearn: 4.3785662\ttotal: 25.5s\tremaining: 5.83s\n",
      "407:\tlearn: 4.3772680\ttotal: 25.6s\tremaining: 5.76s\n",
      "408:\tlearn: 4.3769603\ttotal: 25.6s\tremaining: 5.7s\n",
      "409:\tlearn: 4.3760612\ttotal: 25.7s\tremaining: 5.63s\n",
      "410:\tlearn: 4.3755330\ttotal: 25.7s\tremaining: 5.58s\n",
      "411:\tlearn: 4.3740920\ttotal: 25.8s\tremaining: 5.51s\n",
      "412:\tlearn: 4.3729569\ttotal: 25.9s\tremaining: 5.45s\n",
      "413:\tlearn: 4.3711408\ttotal: 25.9s\tremaining: 5.39s\n",
      "414:\tlearn: 4.3696435\ttotal: 26s\tremaining: 5.33s\n",
      "415:\tlearn: 4.3688417\ttotal: 26.1s\tremaining: 5.26s\n",
      "416:\tlearn: 4.3683570\ttotal: 26.1s\tremaining: 5.2s\n",
      "417:\tlearn: 4.3668079\ttotal: 26.2s\tremaining: 5.14s\n",
      "418:\tlearn: 4.3660378\ttotal: 26.3s\tremaining: 5.07s\n",
      "419:\tlearn: 4.3655003\ttotal: 26.3s\tremaining: 5.01s\n",
      "420:\tlearn: 4.3643484\ttotal: 26.4s\tremaining: 4.95s\n",
      "421:\tlearn: 4.3627970\ttotal: 26.4s\tremaining: 4.89s\n",
      "422:\tlearn: 4.3624417\ttotal: 26.5s\tremaining: 4.82s\n",
      "423:\tlearn: 4.3620572\ttotal: 26.5s\tremaining: 4.76s\n",
      "424:\tlearn: 4.3602415\ttotal: 26.6s\tremaining: 4.69s\n",
      "425:\tlearn: 4.3597469\ttotal: 26.7s\tremaining: 4.63s\n",
      "426:\tlearn: 4.3582209\ttotal: 26.7s\tremaining: 4.57s\n",
      "427:\tlearn: 4.3576038\ttotal: 26.8s\tremaining: 4.5s\n",
      "428:\tlearn: 4.3571489\ttotal: 26.8s\tremaining: 4.44s\n",
      "429:\tlearn: 4.3564371\ttotal: 26.9s\tremaining: 4.38s\n",
      "430:\tlearn: 4.3555412\ttotal: 26.9s\tremaining: 4.31s\n",
      "431:\tlearn: 4.3549919\ttotal: 27s\tremaining: 4.25s\n",
      "432:\tlearn: 4.3540998\ttotal: 27s\tremaining: 4.18s\n",
      "433:\tlearn: 4.3523719\ttotal: 27.1s\tremaining: 4.12s\n",
      "434:\tlearn: 4.3508123\ttotal: 27.2s\tremaining: 4.06s\n",
      "435:\tlearn: 4.3501818\ttotal: 27.2s\tremaining: 4s\n",
      "436:\tlearn: 4.3498327\ttotal: 27.3s\tremaining: 3.93s\n",
      "437:\tlearn: 4.3494319\ttotal: 27.3s\tremaining: 3.87s\n",
      "438:\tlearn: 4.3489606\ttotal: 27.4s\tremaining: 3.81s\n",
      "439:\tlearn: 4.3482896\ttotal: 27.5s\tremaining: 3.74s\n",
      "440:\tlearn: 4.3477919\ttotal: 27.5s\tremaining: 3.68s\n",
      "441:\tlearn: 4.3461568\ttotal: 27.6s\tremaining: 3.62s\n",
      "442:\tlearn: 4.3447068\ttotal: 27.6s\tremaining: 3.56s\n",
      "443:\tlearn: 4.3437088\ttotal: 27.7s\tremaining: 3.49s\n",
      "444:\tlearn: 4.3430776\ttotal: 27.8s\tremaining: 3.43s\n",
      "445:\tlearn: 4.3422175\ttotal: 27.8s\tremaining: 3.37s\n",
      "446:\tlearn: 4.3412164\ttotal: 27.9s\tremaining: 3.31s\n",
      "447:\tlearn: 4.3408053\ttotal: 28s\tremaining: 3.25s\n",
      "448:\tlearn: 4.3392097\ttotal: 28s\tremaining: 3.18s\n",
      "449:\tlearn: 4.3385978\ttotal: 28.1s\tremaining: 3.12s\n",
      "450:\tlearn: 4.3374971\ttotal: 28.2s\tremaining: 3.06s\n",
      "451:\tlearn: 4.3364093\ttotal: 28.3s\tremaining: 3s\n",
      "452:\tlearn: 4.3346934\ttotal: 28.4s\tremaining: 2.94s\n",
      "453:\tlearn: 4.3335125\ttotal: 28.4s\tremaining: 2.88s\n",
      "454:\tlearn: 4.3330965\ttotal: 28.5s\tremaining: 2.82s\n",
      "455:\tlearn: 4.3321914\ttotal: 28.6s\tremaining: 2.75s\n",
      "456:\tlearn: 4.3313353\ttotal: 28.7s\tremaining: 2.7s\n",
      "457:\tlearn: 4.3303382\ttotal: 28.8s\tremaining: 2.64s\n",
      "458:\tlearn: 4.3299296\ttotal: 28.8s\tremaining: 2.58s\n",
      "459:\tlearn: 4.3289714\ttotal: 28.9s\tremaining: 2.51s\n",
      "460:\tlearn: 4.3275097\ttotal: 29s\tremaining: 2.45s\n",
      "461:\tlearn: 4.3262046\ttotal: 29s\tremaining: 2.39s\n",
      "462:\tlearn: 4.3259110\ttotal: 29.1s\tremaining: 2.33s\n",
      "463:\tlearn: 4.3249895\ttotal: 29.2s\tremaining: 2.27s\n",
      "464:\tlearn: 4.3239009\ttotal: 29.3s\tremaining: 2.21s\n",
      "465:\tlearn: 4.3235412\ttotal: 29.4s\tremaining: 2.14s\n",
      "466:\tlearn: 4.3227693\ttotal: 29.4s\tremaining: 2.08s\n",
      "467:\tlearn: 4.3222396\ttotal: 29.5s\tremaining: 2.02s\n",
      "468:\tlearn: 4.3209628\ttotal: 29.5s\tremaining: 1.95s\n",
      "469:\tlearn: 4.3205858\ttotal: 29.6s\tremaining: 1.89s\n",
      "470:\tlearn: 4.3197878\ttotal: 29.7s\tremaining: 1.83s\n",
      "471:\tlearn: 4.3187473\ttotal: 29.7s\tremaining: 1.76s\n",
      "472:\tlearn: 4.3183444\ttotal: 29.8s\tremaining: 1.7s\n",
      "473:\tlearn: 4.3166181\ttotal: 29.9s\tremaining: 1.64s\n",
      "474:\tlearn: 4.3154297\ttotal: 29.9s\tremaining: 1.57s\n",
      "475:\tlearn: 4.3146030\ttotal: 30s\tremaining: 1.51s\n",
      "476:\tlearn: 4.3134251\ttotal: 30s\tremaining: 1.45s\n",
      "477:\tlearn: 4.3129424\ttotal: 30.1s\tremaining: 1.39s\n",
      "478:\tlearn: 4.3119244\ttotal: 30.2s\tremaining: 1.32s\n",
      "479:\tlearn: 4.3104305\ttotal: 30.2s\tremaining: 1.26s\n",
      "480:\tlearn: 4.3098588\ttotal: 30.3s\tremaining: 1.2s\n",
      "481:\tlearn: 4.3092572\ttotal: 30.4s\tremaining: 1.13s\n",
      "482:\tlearn: 4.3079687\ttotal: 30.5s\tremaining: 1.07s\n",
      "483:\tlearn: 4.3074318\ttotal: 30.5s\tremaining: 1.01s\n",
      "484:\tlearn: 4.3058853\ttotal: 30.6s\tremaining: 946ms\n"
     ]
    },
    {
     "name": "stdout",
     "output_type": "stream",
     "text": [
      "485:\tlearn: 4.3054139\ttotal: 30.6s\tremaining: 883ms\n",
      "486:\tlearn: 4.3048598\ttotal: 30.7s\tremaining: 820ms\n",
      "487:\tlearn: 4.3042134\ttotal: 30.8s\tremaining: 757ms\n",
      "488:\tlearn: 4.3030095\ttotal: 30.8s\tremaining: 694ms\n",
      "489:\tlearn: 4.3018463\ttotal: 30.9s\tremaining: 631ms\n",
      "490:\tlearn: 4.3013016\ttotal: 30.9s\tremaining: 567ms\n",
      "491:\tlearn: 4.3009019\ttotal: 31s\tremaining: 504ms\n",
      "492:\tlearn: 4.2998660\ttotal: 31.1s\tremaining: 441ms\n",
      "493:\tlearn: 4.2991398\ttotal: 31.1s\tremaining: 378ms\n",
      "494:\tlearn: 4.2980747\ttotal: 31.2s\tremaining: 315ms\n",
      "495:\tlearn: 4.2974536\ttotal: 31.2s\tremaining: 252ms\n",
      "496:\tlearn: 4.2970867\ttotal: 31.3s\tremaining: 189ms\n",
      "497:\tlearn: 4.2966561\ttotal: 31.4s\tremaining: 126ms\n",
      "498:\tlearn: 4.2953128\ttotal: 31.4s\tremaining: 63ms\n",
      "499:\tlearn: 4.2947042\ttotal: 31.5s\tremaining: 0us\n"
     ]
    },
    {
     "data": {
      "text/plain": [
       "<catboost.core.CatBoostRegressor at 0x1f15e114370>"
      ]
     },
     "execution_count": 251,
     "metadata": {},
     "output_type": "execute_result"
    }
   ],
   "source": [
    "import catboost as cb\n",
    "model = cb.CatBoostRegressor(loss_function='RMSE',iterations=500,depth=5,learning_rate=0.05,l2_leaf_reg= 1)\n",
    "# grid = {'iterations': [500,600],\n",
    "#          'learning_rate': [0.05],\n",
    "#          'depth': [5,8,10],\n",
    "#          'l2_leaf_reg': [ 0.5, 1,2]}\n",
    "model.fit(t_data, target_y)"
   ]
  },
  {
   "cell_type": "code",
   "execution_count": 182,
   "id": "ee2b60ce",
   "metadata": {},
   "outputs": [],
   "source": [
    "# from sklearn.metrics import mean_squared_error\n",
    "# from sklearn.metrics import r2_score\n",
    "# predv = model.predict(te)\n",
    "# rmse = (np.sqrt(mean_squared_error(tey, predv)))\n",
    "# r2 = r2_score(tey, predv)\n",
    "# print('RMSE: {:.2f}'.format(rmse))\n",
    "# print('R2: {:.2f}'.format(r2))\n",
    "# pred = polyreg.predict(te_data)"
   ]
  },
  {
   "cell_type": "code",
   "execution_count": 252,
   "id": "3b6b69c1",
   "metadata": {},
   "outputs": [],
   "source": [
    "# from sklearn.metrics import mean_squared_error\n",
    "# from sklearn.metrics import r2_score\n",
    "# predv = model.predict(te)\n",
    "# rmse = (np.sqrt(mean_squared_error(tey, predv)))\n",
    "# r2 = r2_score(tey, predv)\n",
    "# print('RMSE: {:.2f}'.format(rmse))\n",
    "# print('R2: {:.2f}'.format(r2))\n",
    "predt = model.predict(te_data)"
   ]
  },
  {
   "cell_type": "code",
   "execution_count": null,
   "id": "f16408a6",
   "metadata": {},
   "outputs": [],
   "source": []
  },
  {
   "cell_type": "code",
   "execution_count": 256,
   "id": "e9d74c13",
   "metadata": {},
   "outputs": [],
   "source": [
    "sub=pd.DataFrame()\n",
    "sub['ID']= id_\n",
    "sub['Time_taken (min)'] = 0.9*predtlgb + 0.1*predt\n",
    "sub.to_csv(r\"C:\\Users\\admin\\Downloads\\dataset\\hellosubcatlgb_wh.csv\",index=False)"
   ]
  },
  {
   "cell_type": "code",
   "execution_count": null,
   "id": "762df396",
   "metadata": {},
   "outputs": [],
   "source": []
  }
 ],
 "metadata": {
  "kernelspec": {
   "display_name": "Python 3",
   "language": "python",
   "name": "python3"
  },
  "language_info": {
   "codemirror_mode": {
    "name": "ipython",
    "version": 3
   },
   "file_extension": ".py",
   "mimetype": "text/x-python",
   "name": "python",
   "nbconvert_exporter": "python",
   "pygments_lexer": "ipython3",
   "version": "3.8.8"
  }
 },
 "nbformat": 4,
 "nbformat_minor": 5
}
